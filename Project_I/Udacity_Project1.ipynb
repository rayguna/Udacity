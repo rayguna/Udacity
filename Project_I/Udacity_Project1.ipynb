{
 "cells": [
  {
   "cell_type": "markdown",
   "metadata": {},
   "source": [
    "### TOC\n",
    "\n",
    "#### 1. [Load test-cad-2020.json](#1) \n",
    "#### 2. [Load test-neos-20202.csv](#2)\n",
    "#### 3. [Saving data into a dictionary](#3)\n",
    "#### 4. [Working with an iterator](#4)\n",
    "#### 5. [Magic Methods](#5)\n",
    "#### 6. [AttributeFilter Class](#6)\n",
    "#### 7. [write.py test](#7)"
   ]
  },
  {
   "cell_type": "markdown",
   "metadata": {},
   "source": [
    "***"
   ]
  },
  {
   "cell_type": "markdown",
   "metadata": {},
   "source": [
    "#### 1. Load test-cad-2020.json<A id=\"1\"><a/>"
   ]
  },
  {
   "cell_type": "code",
   "execution_count": null,
   "metadata": {},
   "outputs": [],
   "source": [
    "import pandas as pd\n",
    "import json \n",
    "\n",
    "#cad.json: close approaches\n",
    "with open(\"test-cad-2020.json\") as file:\n",
    "    data=json.load(file)\n",
    "    \n",
    "df_cad=pd.DataFrame(data['data'], columns=data['fields'])\n",
    "df_cad.head()"
   ]
  },
  {
   "cell_type": "code",
   "execution_count": null,
   "metadata": {},
   "outputs": [],
   "source": [
    "data.keys()\n",
    "data['fields']"
   ]
  },
  {
   "cell_type": "code",
   "execution_count": null,
   "metadata": {},
   "outputs": [],
   "source": []
  },
  {
   "cell_type": "code",
   "execution_count": null,
   "metadata": {},
   "outputs": [],
   "source": [
    "from collections import Counter\n",
    "\n",
    "Counter(df_cad.des)"
   ]
  },
  {
   "cell_type": "markdown",
   "metadata": {},
   "source": [
    "#### 2. Load test-neos-20202.csv<a id=\"2\"></a>"
   ]
  },
  {
   "cell_type": "code",
   "execution_count": null,
   "metadata": {
    "scrolled": true
   },
   "outputs": [],
   "source": [
    "import pandas as pd\n",
    "\n",
    "df_neos=pd.read_csv(\"test-neos-2020.csv\", sep=\",\")\n",
    "df_neos.head()"
   ]
  },
  {
   "cell_type": "code",
   "execution_count": null,
   "metadata": {},
   "outputs": [],
   "source": [
    "df_neos.columns"
   ]
  },
  {
   "cell_type": "code",
   "execution_count": null,
   "metadata": {},
   "outputs": [],
   "source": [
    "#df_neos.pdes\n",
    "#df_neos[df_neos.name==\"lemmon\"]\n",
    "df_neos[df_neos.name==\"Lemmon\"]"
   ]
  },
  {
   "cell_type": "code",
   "execution_count": null,
   "metadata": {},
   "outputs": [],
   "source": [
    "df_neos.head()"
   ]
  },
  {
   "cell_type": "code",
   "execution_count": null,
   "metadata": {},
   "outputs": [],
   "source": [
    "#set(df_neos.pha)\n",
    "\n",
    "neos=sorted(set(df_neos.pdes))"
   ]
  },
  {
   "cell_type": "code",
   "execution_count": null,
   "metadata": {},
   "outputs": [],
   "source": [
    "cad=sorted(set(df_cad.des))"
   ]
  },
  {
   "cell_type": "code",
   "execution_count": null,
   "metadata": {},
   "outputs": [],
   "source": [
    "neos==cad"
   ]
  },
  {
   "cell_type": "markdown",
   "metadata": {},
   "source": [
    "#### 3. Saving data into a dictionary<a id=\"3\"></a>"
   ]
  },
  {
   "cell_type": "code",
   "execution_count": null,
   "metadata": {},
   "outputs": [],
   "source": [
    "dictCAD={}\n",
    "\n",
    "for i,des in enumerate(df_cad['des']):\n",
    "    #create a dictionary of approaches by approach designation as the key\n",
    "    if des not in dictCAD.keys():\n",
    "        dictCAD[des]=[]\n",
    "        dictCAD[des].append(df_cad.iloc[i,:])\n",
    "    else:\n",
    "        dictCAD[des].append(df_cad.iloc[i,:])"
   ]
  },
  {
   "cell_type": "code",
   "execution_count": null,
   "metadata": {},
   "outputs": [],
   "source": [
    "dictNEO={}\n",
    "dictNEO['CAD']=[]\n",
    "\n",
    "for neo_des in df_neos['pdes']:\n",
    "    print(dictCAD[neo_des])\n",
    "    #dictNEO['CAD'].append(dictCAD[neo_des])\n",
    "    "
   ]
  },
  {
   "cell_type": "code",
   "execution_count": null,
   "metadata": {},
   "outputs": [],
   "source": [
    "dictNEO['CAD']"
   ]
  },
  {
   "cell_type": "markdown",
   "metadata": {},
   "source": [
    "#### 4. Working with an iterator<a id=\"4\"></a>\n",
    "- https://www.w3schools.com/python/python_iterators.asp"
   ]
  },
  {
   "cell_type": "code",
   "execution_count": null,
   "metadata": {},
   "outputs": [],
   "source": [
    "from itertools import islice\n",
    "\n",
    "myIter=(i for i in range(50))\n",
    "limit=10\n",
    "sliced_myIter=islice(myIter, 0, limit)"
   ]
  },
  {
   "cell_type": "code",
   "execution_count": null,
   "metadata": {},
   "outputs": [],
   "source": [
    "next(sliced_myIter)"
   ]
  },
  {
   "cell_type": "code",
   "execution_count": null,
   "metadata": {},
   "outputs": [],
   "source": [
    "next(myIter)"
   ]
  },
  {
   "cell_type": "markdown",
   "metadata": {},
   "source": [
    "#### 5. Magic Methods<a id=\"5\"></a>\n",
    "- Udacity, OOP, Part I, chpt. 13"
   ]
  },
  {
   "cell_type": "code",
   "execution_count": null,
   "metadata": {},
   "outputs": [],
   "source": [
    "class MagicShoppingCart:\n",
    "    \"\"\"\n",
    "    params:\n",
    "    .items: a dictionary object\n",
    "    \"\"\"\n",
    "    \n",
    "    def __init__(self, items):\n",
    "        self.items=items\n",
    "        \n",
    "    def __len__(self):\n",
    "        return sum(self.items.values())\n",
    "    \n",
    "    def __str__(self):\n",
    "        return f\"MagicShoppingCart({self.items})\"\n",
    "    \n",
    "    def __contains__(self,item):\n",
    "        return item in self.items\n",
    "    \n",
    "    def __iadd__(self, other):\n",
    "        for item, count in other.items.items():\n",
    "            if item in self.items:\n",
    "                self.items[item]+=count\n",
    "            else:\n",
    "                self.items[item]=count\n",
    "        return self"
   ]
  },
  {
   "cell_type": "code",
   "execution_count": null,
   "metadata": {},
   "outputs": [],
   "source": [
    "cart1=MagicShoppingCart({'apples':3, 'bananas':2})\n",
    "cart2=MagicShoppingCart({'apples':2, 'oranges':5})\n",
    "\n",
    "cart1+=cart2\n",
    "\n",
    "print(cart1)"
   ]
  },
  {
   "cell_type": "code",
   "execution_count": null,
   "metadata": {},
   "outputs": [],
   "source": [
    "myDict={'apples':2, 'oranges':5}\n",
    "myDict.items.items()"
   ]
  },
  {
   "cell_type": "code",
   "execution_count": null,
   "metadata": {},
   "outputs": [],
   "source": [
    "cart1.items.items()"
   ]
  },
  {
   "cell_type": "markdown",
   "metadata": {},
   "source": [
    "#### 6. AttributeFilter Class<a id=\"6\"></a>"
   ]
  },
  {
   "cell_type": "code",
   "execution_count": null,
   "metadata": {},
   "outputs": [],
   "source": [
    "import operator \n",
    "\n",
    "class AttributeFilter:\n",
    "    \"\"\"A general superclass for filters on comparable attributes.\n",
    "\n",
    "    An `AttributeFilter` represents the search criteria pattern comparing some\n",
    "    attribute of a close approach (or its attached NEO) to a reference value. It\n",
    "    essentially functions as a callable predicate for whether a `CloseApproach`\n",
    "    object satisfies the encoded criterion.\n",
    "\n",
    "    It is constructed with a comparator operator and a reference value, and\n",
    "    calling the filter (with __call__) executes `get(approach) OP value` (in\n",
    "    infix notation).\n",
    "\n",
    "    Concrete subclasses can override the `get` classmethod to provide custom\n",
    "    behavior to fetch a desired attribute from the given `CloseApproach`.\n",
    "    \"\"\"\n",
    "    def __init__(self, op, value):\n",
    "        \"\"\"Construct a new `AttributeFilter` from an binary predicate and a reference value.\n",
    "\n",
    "        The reference value will be supplied as the second (right-hand side)\n",
    "        argument to the operator function. For example, an `AttributeFilter`\n",
    "        with `op=operator.le` and `value=10` will, when called on an approach,\n",
    "        evaluate `some_attribute <= 10`.\n",
    "\n",
    "        :param op: A 2-argument predicate comparator (such as `operator.le`).\n",
    "        :param value: The reference value to compare against.\n",
    "        \"\"\"\n",
    "        self.op = op\n",
    "        self.value = value\n",
    "\n",
    "    def __call__(self, approach):\n",
    "        \"\"\"Invoke `self(approach)`.\"\"\"\n",
    "        return self.op(self.get(approach), self.value)\n",
    "\n",
    "    @classmethod\n",
    "    def get(cls, approach):\n",
    "        \"\"\"Get an attribute of interest from a close approach.\n",
    "\n",
    "        Concrete subclasses must override this method to get an attribute of\n",
    "        interest from the supplied `CloseApproach`.\n",
    "\n",
    "        :param approach: A `CloseApproach` on which to evaluate this filter.\n",
    "        :return: The value of an attribute of interest, comparable to `self.value` via `self.op`.\n",
    "        \"\"\"\n",
    "        raise UnsupportedCriterionError\n",
    "\n",
    "    def __repr__(self):\n",
    "        return f\"{self.__class__.__name__}(op=operator.{self.op.__name__}, value={self.value})\"\n",
    "\n",
    "    #>>>>>>>>>>>>>>>>>>>>>>\n",
    "    def __le__(self, other):\n",
    "        \"\"\"less than equal to method\n",
    "        \"\"\"\n",
    "        for item, count in other.items.items():\n",
    "            if item in self.items:\n",
    "                self.items[item]+=count\n",
    "            else:\n",
    "                self.items[item]=count\n",
    "        return self\n",
    "\n",
    "\n",
    "def create_filters(\n",
    "        date=None, start_date=None, end_date=None,\n",
    "        distance_min=None, distance_max=None,\n",
    "        velocity_min=None, velocity_max=None,\n",
    "        diameter_min=None, diameter_max=None,\n",
    "        hazardous=None\n",
    "):\n",
    "    \"\"\"Create a collection of filters from user-specified criteria.\n",
    "\n",
    "    Each of these arguments is provided by the main module with a value from the\n",
    "    user's options at the command line. Each one corresponds to a different type\n",
    "    of filter. For example, the `--date` option corresponds to the `date`\n",
    "    argument, and represents a filter that selects close approaches that occurred\n",
    "    on exactly that given date. Similarly, the `--min-distance` option\n",
    "    corresponds to the `distance_min` argument, and represents a filter that\n",
    "    selects close approaches whose nominal approach distance is at least that\n",
    "    far away from Earth. Each option is `None` if not specified at the command\n",
    "    line (in particular, this means that the `--not-hazardous` flag results in\n",
    "    `hazardous=False`, not to be confused with `hazardous=None`).\n",
    "\n",
    "    The return value must be compatible with the `query` method of `NEODatabase`\n",
    "    because the main module directly passes this result to that method. For now,\n",
    "    this can be thought of as a collection of `AttributeFilter`s.\n",
    "\n",
    "    :param date: A `date` on which a matching `CloseApproach` occurs.\n",
    "    :param start_date: A `date` on or after which a matching `CloseApproach` occurs.\n",
    "    :param end_date: A `date` on or before which a matching `CloseApproach` occurs.\n",
    "    :param distance_min: A minimum nominal approach distance for a matching `CloseApproach`.\n",
    "    :param distance_max: A maximum nominal approach distance for a matching `CloseApproach`.\n",
    "    :param velocity_min: A minimum relative approach velocity for a matching `CloseApproach`.\n",
    "    :param velocity_max: A maximum relative approach velocity for a matching `CloseApproach`.\n",
    "    :param diameter_min: A minimum diameter of the NEO of a matching `CloseApproach`.\n",
    "    :param diameter_max: A maximum diameter of the NEO of a matching `CloseApproach`.\n",
    "    :param hazardous: Whether the NEO of a matching `CloseApproach` is potentially hazardous.\n",
    "    :return: A collection of filters for use with `query`.\n",
    "    \"\"\"\n",
    "    # TODO: Decide how you will represent your filters.\n",
    "\n",
    "    if velocity_min != None:\n",
    "        return\n",
    "    \n",
    "    #return ()"
   ]
  },
  {
   "cell_type": "code",
   "execution_count": null,
   "metadata": {
    "scrolled": true
   },
   "outputs": [],
   "source": [
    "import pandas as pd\n",
    "import json \n",
    "\n",
    "#cad.json: close approaches\n",
    "with open(\"test-cad-2020.json\") as file:\n",
    "    data=json.load(file)\n",
    "    \n",
    "df_cad=pd.DataFrame(data['data'], columns=data['fields'])\n",
    "df_cad.head()"
   ]
  },
  {
   "cell_type": "code",
   "execution_count": null,
   "metadata": {},
   "outputs": [],
   "source": [
    "import models\n",
    "\n",
    "f=AttributeFilter(operator.eq, '433')\n",
    "approach_433=models.CloseApproach(df_cad.iloc[0,:][\"cd\"], df_cad.iloc[0,:][\"dist\"], df_cad.iloc[0,:][\"v_rel\"])\n",
    "f(approach_433)"
   ]
  },
  {
   "cell_type": "markdown",
   "metadata": {},
   "source": [
    "***"
   ]
  },
  {
   "cell_type": "code",
   "execution_count": null,
   "metadata": {},
   "outputs": [],
   "source": [
    "from filters import ObjectFilter\n",
    "\n",
    "#allows to import the datasets to be filtered\n",
    "from database import NEODatabase\n",
    "from extract import load_neos, load_approaches\n",
    "\n",
    "import operator\n",
    "\n",
    "TEST_NEO_FILE = 'test-neos-2020.csv'\n",
    "TEST_CAD_FILE = 'test-cad-2020.json'\n",
    "\n",
    "#instantiate dataset objects\n",
    "#load datasets\n",
    "approaches=load_approaches(TEST_CAD_FILE)\n",
    "neos=load_neos(TEST_NEO_FILE)\n",
    "\n",
    "#instantiate filter objects\n",
    "#approachfilter = ObjectFilter.get(approaches,operator.ge, '33')\n",
    "approachfilter = ObjectFilter(approaches, operator.ge, '33')\n",
    "\n",
    "approachfilter#.get(approaches);\n",
    "#approachfilter.value"
   ]
  },
  {
   "cell_type": "code",
   "execution_count": null,
   "metadata": {},
   "outputs": [],
   "source": [
    "#approachfilter.any_object"
   ]
  },
  {
   "cell_type": "code",
   "execution_count": null,
   "metadata": {},
   "outputs": [],
   "source": [
    "objectfilter=ObjectFilter.get(approaches)\n",
    "type(objectfilter)"
   ]
  },
  {
   "cell_type": "code",
   "execution_count": null,
   "metadata": {},
   "outputs": [],
   "source": [
    "approachfilter.__dict__"
   ]
  },
  {
   "cell_type": "code",
   "execution_count": null,
   "metadata": {},
   "outputs": [],
   "source": [
    "#approachfilter.get(load_approaches(TEST_CAD_FILE)) #check\n",
    "#filter_hazardous=NEOFilter(operator.eq)"
   ]
  },
  {
   "cell_type": "code",
   "execution_count": null,
   "metadata": {},
   "outputs": [],
   "source": [
    "import operator\n",
    "\n",
    "operator.gt(5,10)"
   ]
  },
  {
   "cell_type": "code",
   "execution_count": null,
   "metadata": {},
   "outputs": [],
   "source": [
    "myop=operator.gt\n",
    "myop(20,17)"
   ]
  },
  {
   "cell_type": "code",
   "execution_count": null,
   "metadata": {},
   "outputs": [],
   "source": []
  },
  {
   "cell_type": "code",
   "execution_count": null,
   "metadata": {},
   "outputs": [],
   "source": [
    "from database import NEODatabase\n",
    "from extract import load_neos, load_approaches\n",
    "import operator\n",
    "\n",
    "TEST_NEO_FILE = 'test-neos-2020.csv'\n",
    "TEST_CAD_FILE = 'test-cad-2020.json'\n",
    "\n",
    "#NEODatabase\n",
    "\n",
    "neos=load_neos('test-neos-2020.csv')\n",
    "approaches=load_approaches('test-cad-2020.json')\n",
    "\n",
    "myDB=NEODatabase(neos,approaches)"
   ]
  },
  {
   "cell_type": "code",
   "execution_count": null,
   "metadata": {},
   "outputs": [],
   "source": [
    "myDB._approaches"
   ]
  },
  {
   "cell_type": "code",
   "execution_count": null,
   "metadata": {},
   "outputs": [],
   "source": [
    "from database import NEODatabase\n",
    "from extract import load_neos, load_approaches\n",
    "from filters import create_filters\n",
    "\n",
    "TEST_NEO_FILE = 'test-neos-2020.csv'\n",
    "TEST_CAD_FILE = 'test-cad-2020.json'\n",
    "\n",
    "neos=load_neos('test-neos-2020.csv')\n",
    "approaches=load_approaches('test-cad-2020.json')\n",
    "myDB=NEODatabase(neos, approaches)\n",
    "\n",
    "import datetime\n",
    "\n",
    "date = datetime.date(2020, 3, 2)\n",
    "\n",
    "filters = create_filters(date=date)\n",
    "filters"
   ]
  },
  {
   "cell_type": "code",
   "execution_count": null,
   "metadata": {},
   "outputs": [],
   "source": [
    "myList=[]\n",
    "for approach in myDB._approaches:\n",
    "    if approach.time.date()==filters['date']:\n",
    "        myList.append(approach)"
   ]
  },
  {
   "cell_type": "code",
   "execution_count": null,
   "metadata": {},
   "outputs": [],
   "source": [
    "received = set(myDB.query(filters))\n",
    "received"
   ]
  },
  {
   "cell_type": "code",
   "execution_count": null,
   "metadata": {},
   "outputs": [],
   "source": [
    "myDB._approaches[0].time.date()"
   ]
  },
  {
   "cell_type": "code",
   "execution_count": null,
   "metadata": {},
   "outputs": [],
   "source": [
    "filters"
   ]
  },
  {
   "cell_type": "code",
   "execution_count": null,
   "metadata": {},
   "outputs": [],
   "source": [
    "myDB.query(filters())"
   ]
  },
  {
   "cell_type": "markdown",
   "metadata": {},
   "source": [
    "***"
   ]
  },
  {
   "cell_type": "code",
   "execution_count": null,
   "metadata": {},
   "outputs": [],
   "source": [
    "setA={1,2,3,4}\n",
    "setB={3,4,5,2}\n",
    "setC=set()\n",
    "setD={11,14,25,32}\n",
    "total=set()\n",
    "\n",
    "total=setA.intersection(setB)\n",
    "total"
   ]
  },
  {
   "cell_type": "code",
   "execution_count": null,
   "metadata": {},
   "outputs": [],
   "source": [
    "setC"
   ]
  },
  {
   "cell_type": "code",
   "execution_count": null,
   "metadata": {},
   "outputs": [],
   "source": [
    "from collections import Counter\n",
    "\n",
    "myDict={'A': 1, 'B':5, 'C':10, 'D': None, 'E': None, 'F':set(), 'G':set()}\n",
    "#Counter(myDict)\n",
    "\n",
    "for each in myDict.values():\n",
    "    if each==set():\n",
    "        print(\"Yes\")"
   ]
  },
  {
   "cell_type": "markdown",
   "metadata": {},
   "source": [
    "***"
   ]
  },
  {
   "cell_type": "markdown",
   "metadata": {},
   "source": [
    "#### 7. write.py test<a id=\"7\"></a>"
   ]
  },
  {
   "cell_type": "code",
   "execution_count": 27,
   "metadata": {},
   "outputs": [],
   "source": [
    "import collections\n",
    "import collections.abc\n",
    "import contextlib\n",
    "import csv\n",
    "import datetime\n",
    "import io\n",
    "import json\n",
    "import pathlib\n",
    "import unittest\n",
    "import unittest.mock\n",
    "\n",
    "\n",
    "from extract import load_neos, load_approaches\n",
    "from database import NEODatabase\n",
    "from write import write_to_csv, write_to_json\n",
    "\n",
    "\n",
    "\n",
    "TEST_NEO_FILE = 'test-neos-2020.csv'\n",
    "TEST_CAD_FILE = 'test-cad-2020.json'\n",
    "\n",
    "\n",
    "def build_results(n):\n",
    "    neos = tuple(load_neos(TEST_NEO_FILE))\n",
    "    approaches = tuple(load_approaches(TEST_CAD_FILE))\n",
    "\n",
    "    # Only needed to link together these objects.\n",
    "    NEODatabase(neos, approaches)\n",
    "\n",
    "    return approaches[:n]\n",
    "\n",
    "results=build_results(10)"
   ]
  },
  {
   "cell_type": "code",
   "execution_count": 35,
   "metadata": {},
   "outputs": [
    {
     "data": {
      "text/plain": [
       "{'datetime_utc': datetime.datetime(2020, 1, 1, 0, 54),\n",
       " 'distance_au': 0.0211660525256395,\n",
       " 'velocity_km_s': 5.62203195551878,\n",
       " 'neo': {'designation': '2020 AY1',\n",
       "  'name': None,\n",
       "  'diameter_km': nan,\n",
       "  'potentially_hazardous': False}}"
      ]
     },
     "execution_count": 35,
     "metadata": {},
     "output_type": "execute_result"
    }
   ],
   "source": [
    "type(results[0])\n",
    "\n",
    "#dir(results[0])\n",
    "list(results[0].serialize().values())+list(results[0].neo.serialize().values())\n",
    "\n",
    "myDict=results[0].serialize()\n",
    "myDict[\"neo\"]=results[0].neo.serialize()\n",
    "myDict\n",
    "\n",
    "#type(results)\n",
    "#dir(results[0].neo)\n",
    "\n",
    "#'datetime_utc', 'distance_au', 'velocity_km_s',\n",
    "#        'designation', 'name', 'diameter_km', 'potentially_hazardous'"
   ]
  },
  {
   "cell_type": "code",
   "execution_count": 36,
   "metadata": {},
   "outputs": [
    {
     "name": "stdout",
     "output_type": "stream",
     "text": [
      "2020-01-01 00:54,0.0211660525256395,5.62203195551878,2020 AY1,None,nan,False\n"
     ]
    }
   ],
   "source": [
    "row=results[0]\n",
    "strRow=','.join([str(s) for s in [row.time.strftime(\"%Y-%m-%d %H:%M\"), row.distance, row.velocity,\\\n",
    "                 row._designation, row.neo.name, row.neo.diameter, row.neo.hazardous]])\n",
    "print(strRow)"
   ]
  },
  {
   "cell_type": "code",
   "execution_count": 37,
   "metadata": {},
   "outputs": [
    {
     "data": {
      "text/plain": [
       "'2020-01-01 00:54'"
      ]
     },
     "execution_count": 37,
     "metadata": {},
     "output_type": "execute_result"
    }
   ],
   "source": [
    "row.time.strftime(\"%Y-%m-%d %H:%M\")"
   ]
  },
  {
   "cell_type": "code",
   "execution_count": 42,
   "metadata": {},
   "outputs": [
    {
     "data": {
      "text/plain": [
       "'2020-01-01 00:54'"
      ]
     },
     "execution_count": 42,
     "metadata": {},
     "output_type": "execute_result"
    }
   ],
   "source": [
    "row.time.strftime(\"%Y-%m-%d %H:%M\")"
   ]
  },
  {
   "cell_type": "code",
   "execution_count": 4,
   "metadata": {},
   "outputs": [
    {
     "ename": "AttributeError",
     "evalue": "'tuple' object has no attribute 'serialize'",
     "output_type": "error",
     "traceback": [
      "\u001b[1;31m---------------------------------------------------------------------------\u001b[0m",
      "\u001b[1;31mAttributeError\u001b[0m                            Traceback (most recent call last)",
      "\u001b[1;32m<ipython-input-4-0e5fbb50f936>\u001b[0m in \u001b[0;36m<module>\u001b[1;34m\u001b[0m\n\u001b[1;32m----> 1\u001b[1;33m \u001b[0mresults\u001b[0m\u001b[1;33m.\u001b[0m\u001b[0mserialize\u001b[0m\u001b[1;33m(\u001b[0m\u001b[1;33m)\u001b[0m\u001b[1;33m\u001b[0m\u001b[1;33m\u001b[0m\u001b[0m\n\u001b[0m",
      "\u001b[1;31mAttributeError\u001b[0m: 'tuple' object has no attribute 'serialize'"
     ]
    }
   ],
   "source": [
    "results.serialize()"
   ]
  },
  {
   "cell_type": "code",
   "execution_count": 2,
   "metadata": {},
   "outputs": [
    {
     "ename": "TypeError",
     "evalue": "writerows() argument must be iterable",
     "output_type": "error",
     "traceback": [
      "\u001b[1;31m---------------------------------------------------------------------------\u001b[0m",
      "\u001b[1;31mTypeError\u001b[0m                                 Traceback (most recent call last)",
      "\u001b[1;32m<ipython-input-2-a6967d3aa3f0>\u001b[0m in \u001b[0;36m<module>\u001b[1;34m\u001b[0m\n\u001b[0;32m      1\u001b[0m \u001b[1;32mimport\u001b[0m \u001b[0mwrite\u001b[0m\u001b[1;33m\u001b[0m\u001b[1;33m\u001b[0m\u001b[0m\n\u001b[0;32m      2\u001b[0m \u001b[1;33m\u001b[0m\u001b[0m\n\u001b[1;32m----> 3\u001b[1;33m \u001b[0mwrite_to_csv\u001b[0m\u001b[1;33m(\u001b[0m\u001b[0mresults\u001b[0m\u001b[1;33m,\u001b[0m \u001b[1;34m\"myoutput_10022022.csv\"\u001b[0m\u001b[1;33m)\u001b[0m\u001b[1;33m\u001b[0m\u001b[1;33m\u001b[0m\u001b[0m\n\u001b[0m",
      "\u001b[1;32m~\\Desktop\\Udacity_Intermediate_Python_09112022\\Project_I_Exploring_Near_Earth_Objects\\cd0010-advanced-python-techniques-project-starter\\write.py\u001b[0m in \u001b[0;36mwrite_to_csv\u001b[1;34m(results, filename)\u001b[0m\n\u001b[0;32m     37\u001b[0m \u001b[1;33m\u001b[0m\u001b[0m\n\u001b[0;32m     38\u001b[0m         \u001b[1;32mfor\u001b[0m \u001b[0mrow\u001b[0m \u001b[1;32min\u001b[0m \u001b[0mresults\u001b[0m\u001b[1;33m:\u001b[0m\u001b[1;33m\u001b[0m\u001b[1;33m\u001b[0m\u001b[0m\n\u001b[1;32m---> 39\u001b[1;33m             \u001b[0mwriter\u001b[0m\u001b[1;33m.\u001b[0m\u001b[0mwriterows\u001b[0m\u001b[1;33m(\u001b[0m\u001b[0mrow\u001b[0m\u001b[1;33m)\u001b[0m\u001b[1;33m\u001b[0m\u001b[1;33m\u001b[0m\u001b[0m\n\u001b[0m\u001b[0;32m     40\u001b[0m \u001b[1;33m\u001b[0m\u001b[0m\n\u001b[0;32m     41\u001b[0m \u001b[1;33m\u001b[0m\u001b[0m\n",
      "\u001b[1;31mTypeError\u001b[0m: writerows() argument must be iterable"
     ]
    }
   ],
   "source": [
    "import write\n",
    "\n",
    "write_to_csv(results, \"myoutput_10022022.csv\")"
   ]
  },
  {
   "cell_type": "code",
   "execution_count": 38,
   "metadata": {},
   "outputs": [
    {
     "ename": "TypeError",
     "evalue": "sequence item 0: expected str instance, int found",
     "output_type": "error",
     "traceback": [
      "\u001b[1;31m---------------------------------------------------------------------------\u001b[0m",
      "\u001b[1;31mTypeError\u001b[0m                                 Traceback (most recent call last)",
      "\u001b[1;32m<ipython-input-38-7aad5b662127>\u001b[0m in \u001b[0;36m<module>\u001b[1;34m\u001b[0m\n\u001b[0;32m      1\u001b[0m \u001b[0mmyList\u001b[0m\u001b[1;33m=\u001b[0m\u001b[1;33m[\u001b[0m\u001b[1;36m1\u001b[0m\u001b[1;33m,\u001b[0m\u001b[1;36m2\u001b[0m\u001b[1;33m,\u001b[0m\u001b[1;36m3\u001b[0m\u001b[1;33m,\u001b[0m\u001b[1;36m4\u001b[0m\u001b[1;33m]\u001b[0m\u001b[1;33m\u001b[0m\u001b[1;33m\u001b[0m\u001b[0m\n\u001b[1;32m----> 2\u001b[1;33m \u001b[1;34m','\u001b[0m\u001b[1;33m.\u001b[0m\u001b[0mjoin\u001b[0m\u001b[1;33m(\u001b[0m\u001b[0mmyList\u001b[0m\u001b[1;33m)\u001b[0m\u001b[1;33m\u001b[0m\u001b[1;33m\u001b[0m\u001b[0m\n\u001b[0m",
      "\u001b[1;31mTypeError\u001b[0m: sequence item 0: expected str instance, int found"
     ]
    }
   ],
   "source": [
    "myList=[1,2,3,4]\n",
    "','.join(myList)"
   ]
  },
  {
   "cell_type": "code",
   "execution_count": null,
   "metadata": {},
   "outputs": [],
   "source": []
  },
  {
   "cell_type": "code",
   "execution_count": 4,
   "metadata": {},
   "outputs": [
    {
     "ename": "TypeError",
     "evalue": "writerows() argument must be iterable",
     "output_type": "error",
     "traceback": [
      "\u001b[1;31m---------------------------------------------------------------------------\u001b[0m",
      "\u001b[1;31mTypeError\u001b[0m                                 Traceback (most recent call last)",
      "\u001b[1;32m<ipython-input-4-b298840c351d>\u001b[0m in \u001b[0;36m<module>\u001b[1;34m\u001b[0m\n\u001b[0;32m      7\u001b[0m \u001b[0mout\u001b[0m \u001b[1;33m=\u001b[0m \u001b[0mcsv\u001b[0m\u001b[1;33m.\u001b[0m\u001b[0mwriter\u001b[0m\u001b[1;33m(\u001b[0m\u001b[0moutfile\u001b[0m\u001b[1;33m)\u001b[0m\u001b[1;33m\u001b[0m\u001b[1;33m\u001b[0m\u001b[0m\n\u001b[0;32m      8\u001b[0m \u001b[1;32mfor\u001b[0m \u001b[0meach\u001b[0m \u001b[1;32min\u001b[0m \u001b[0mfin_ids\u001b[0m\u001b[1;33m:\u001b[0m\u001b[1;33m\u001b[0m\u001b[1;33m\u001b[0m\u001b[0m\n\u001b[1;32m----> 9\u001b[1;33m     \u001b[0mout\u001b[0m\u001b[1;33m.\u001b[0m\u001b[0mwriterows\u001b[0m\u001b[1;33m(\u001b[0m\u001b[0meach\u001b[0m\u001b[1;33m)\u001b[0m\u001b[1;33m\u001b[0m\u001b[1;33m\u001b[0m\u001b[0m\n\u001b[0m\u001b[0;32m     10\u001b[0m \u001b[0moutfile\u001b[0m\u001b[1;33m.\u001b[0m\u001b[0mclose\u001b[0m\u001b[1;33m(\u001b[0m\u001b[1;33m)\u001b[0m\u001b[1;33m\u001b[0m\u001b[1;33m\u001b[0m\u001b[0m\n",
      "\u001b[1;31mTypeError\u001b[0m: writerows() argument must be iterable"
     ]
    }
   ],
   "source": [
    "fin_ids = [1002774, 0, 1000702, 1000339, \n",
    "   1001620, 1000710, 1000202, 1003143, 147897, \n",
    "   31018, 1001502, 1002812, 1003026, 1003280, \n",
    "   1003289, 1002714, 133191, 5252218, 6007821, 1002632]\n",
    "        \n",
    "outfile = open(\"test_save_10022022.csv\",'w')\n",
    "out = csv.writer(outfile)\n",
    "for each in fin_ids:\n",
    "out.writerows(map(lambda x: [x], fin_ids))\n",
    "outfile.close()"
   ]
  },
  {
   "cell_type": "code",
   "execution_count": 4,
   "metadata": {},
   "outputs": [],
   "source": [
    "neos = load_neos(TEST_NEO_FILE)"
   ]
  },
  {
   "cell_type": "code",
   "execution_count": 5,
   "metadata": {},
   "outputs": [
    {
     "data": {
      "text/plain": [
       "{'designation': '1685',\n",
       " 'name': 'Toro',\n",
       " 'diameter_km': 3.4,\n",
       " 'potentially_hazardous': False}"
      ]
     },
     "execution_count": 5,
     "metadata": {},
     "output_type": "execute_result"
    }
   ],
   "source": [
    "neos[0].serialize()"
   ]
  }
 ],
 "metadata": {
  "kernelspec": {
   "display_name": "finance_py37",
   "language": "python",
   "name": "finance_py37"
  },
  "language_info": {
   "codemirror_mode": {
    "name": "ipython",
    "version": 3
   },
   "file_extension": ".py",
   "mimetype": "text/x-python",
   "name": "python",
   "nbconvert_exporter": "python",
   "pygments_lexer": "ipython3",
   "version": "3.7.7"
  }
 },
 "nbformat": 4,
 "nbformat_minor": 4
}
